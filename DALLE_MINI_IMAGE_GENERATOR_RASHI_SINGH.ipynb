{
  "nbformat": 4,
  "nbformat_minor": 0,
  "metadata": {
    "colab": {
      "provenance": []
    },
    "kernelspec": {
      "name": "python3",
      "display_name": "Python 3"
    },
    "language_info": {
      "name": "python"
    }
  },
  "cells": [
    {
      "cell_type": "code",
      "execution_count": null,
      "metadata": {
        "id": "pWjea7OdEDhH"
      },
      "outputs": [],
      "source": [
        "# Install Required Dependencies\n",
        "!pip install tensorflow keras_cv --upgrade --quiet\n",
        "\n",
        "# Import Libraries\n",
        "import time\n",
        "import keras_cv\n",
        "from tensorflow import keras\n",
        "import matplotlib.pyplot as plt\n",
        "\n",
        "# Define the Model\n",
        "model = keras_cv.models.StableDiffusion(img_width=512, img_height=512)\n",
        "\n",
        "# Function to Generate and Plot Images\n",
        "def generate_images(prompt, batch_size=3):\n",
        "    images = model.text_to_image(prompt, batch_size=batch_size)\n",
        "    return images\n",
        "\n",
        "def plot_images(images):\n",
        "    plt.figure(figsize=(20, 20))\n",
        "    for i in range(len(images)):\n",
        "        ax = plt.subplot(1, len(images), i + 1)\n",
        "        plt.imshow(images[i])\n",
        "        plt.axis(\"off\")\n",
        "    plt.show()\n",
        "\n",
        "# Optimize the Model for Performance\n",
        "# Enable mixed precision\n",
        "keras.mixed_precision.set_global_policy(\"mixed_float16\")\n",
        "\n",
        "# Enable XLA compilation\n",
        "model = keras_cv.models.StableDiffusion(jit_compile=True)\n",
        "\n",
        "# Run the Image Generator\n",
        "prompt = \"A beautiful landscape with mountains, rivers, and a clear sky\"\n",
        "images = generate_images(prompt, batch_size=3)\n",
        "plot_images(images)\n",
        "\n",
        "# Benchmark the Model (Optional)\n",
        "start = time.time()\n",
        "images = generate_images(prompt, batch_size=3)\n",
        "end = time.time()\n",
        "\n",
        "print(f\"Image generation time: {(end - start):.2f} seconds\")\n",
        "plot_images(images)"
      ]
    }
  ]
}